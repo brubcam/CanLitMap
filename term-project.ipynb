{
 "cells": [
  {
   "attachments": {},
   "cell_type": "markdown",
   "id": "f1ec90e7-ccc9-439e-b712-33f3b29dfa7c",
   "metadata": {},
   "source": [
    "# GEOG 464 - Term Project - Cameron Brubacher"
   ]
  },
  {
   "attachments": {},
   "cell_type": "markdown",
   "id": "257fa0ba",
   "metadata": {},
   "source": [
    "## An interactive map of Canadian literature"
   ]
  },
  {
   "attachments": {},
   "cell_type": "markdown",
   "id": "87e79d34",
   "metadata": {},
   "source": [
    "### Importing modules:"
   ]
  },
  {
   "cell_type": "code",
   "execution_count": 1,
   "id": "f333e61b",
   "metadata": {},
   "outputs": [],
   "source": [
    "import pandas as pd\n",
    "import bs4 as bs"
   ]
  },
  {
   "attachments": {},
   "cell_type": "markdown",
   "id": "2da55b16",
   "metadata": {},
   "source": [
    "### Importing data:"
   ]
  },
  {
   "cell_type": "code",
   "execution_count": 2,
   "id": "8e11622d",
   "metadata": {},
   "outputs": [],
   "source": [
    "articles = pd.read_csv('data/delivery.csv')\n",
    "html = open('data/EBSCOhost.html')"
   ]
  },
  {
   "attachments": {},
   "cell_type": "markdown",
   "id": "7c38580f",
   "metadata": {},
   "source": [
    "### Cleaning article data:"
   ]
  },
  {
   "cell_type": "code",
   "execution_count": 3,
   "id": "eaa1eac4",
   "metadata": {},
   "outputs": [],
   "source": [
    "def clean_art(dataset):\n",
    "    dataset.drop(columns={'ISSN', 'Publication Date', 'Issue', 'DOI', 'Doctype', 'Keywords', 'Abstract'}, inplace=True)\n",
    "    dataset.rename(columns={'Author': 'Journal Author', 'Publisher': 'Journal Publisher', 'PLink': 'Permalink'}, inplace=True)\n",
    "    dataset['Work Type'] = pd.Series(dtype='string')\n",
    "    dataset['Work Genre'] = pd.Series(dtype='string')\n",
    "    for i, row in dataset.iterrows():\n",
    "        dataset.loc[i, 'ISBN'] = row[3][2:-1]\n",
    "        dataset.loc[i, 'Work Type'] = row[0][((row[0].find(';'))+2):(row[0].rfind(';'))]\n",
    "        dataset.loc[i, 'Work Genre'] = row[0][((row[0].rfind(';'))+2):]\n",
    "    return dataset"
   ]
  },
  {
   "attachments": {},
   "cell_type": "markdown",
   "id": "8f826654",
   "metadata": {},
   "source": [
    "### Parsing HTML files:"
   ]
  },
  {
   "cell_type": "code",
   "execution_count": 4,
   "id": "e4e4cdb0",
   "metadata": {},
   "outputs": [],
   "source": [
    "def parse_html(file):\n",
    "    div = bs.SoupStrainer('div', {'id': 'records'})\n",
    "    html = bs.BeautifulSoup(file, 'html.parser', parse_only=div)\n",
    "    record = []\n",
    "    for string in html.stripped_strings:\n",
    "        record.append(repr(string))\n",
    "    return record"
   ]
  },
  {
   "attachments": {},
   "cell_type": "markdown",
   "id": "8f2fb306",
   "metadata": {},
   "source": [
    "### Cleaning HTML data:"
   ]
  },
  {
   "cell_type": "code",
   "execution_count": 5,
   "id": "1ab20ca4",
   "metadata": {},
   "outputs": [],
   "source": [
    "def clean_html(dataset):\n",
    "    dataset = [entry.strip(\"'\") for entry in dataset]\n",
    "    remove = {'underbar', 'Entry', 'publication', 'cross references'}\n",
    "    for i, entry in enumerate(dataset):\n",
    "        if len(entry) <= 3:\n",
    "            del(dataset[i])\n",
    "        for string in remove:\n",
    "            if string in entry:\n",
    "                del(dataset[i])\n",
    "    return dataset "
   ]
  },
  {
   "attachments": {},
   "cell_type": "markdown",
   "id": "44f2ddb4",
   "metadata": {},
   "source": [
    "### Tabulating metadata:"
   ]
  },
  {
   "cell_type": "code",
   "execution_count": 6,
   "id": "b9e85a68",
   "metadata": {},
   "outputs": [],
   "source": [
    "def table_meta(dataset):\n",
    "    headers = []\n",
    "    for entry in dataset:\n",
    "        if entry.endswith(':'):\n",
    "            headers.append(entry[:-1])\n",
    "    meta = pd.DataFrame(data=[[None]*len(headers)], columns=headers)\n",
    "    for i, entry in enumerate(dataset):\n",
    "        for header in headers:\n",
    "            try:\n",
    "                if header in entry and not dataset[i+1].endswith(':'):\n",
    "                    meta[header] = dataset[i+1]\n",
    "            except IndexError:\n",
    "                break\n",
    "    return meta"
   ]
  },
  {
   "attachments": {},
   "cell_type": "markdown",
   "id": "609bf6f9",
   "metadata": {},
   "source": [
    "### Cleaning metadata:"
   ]
  },
  {
   "cell_type": "code",
   "execution_count": 7,
   "id": "b51da6a6",
   "metadata": {},
   "outputs": [],
   "source": [
    "def clean_meta(dataset):\n",
    "    dataset.drop(columns={'Title', 'Subject(s)', 'Links', 'Linking Note', 'Book Source', 'Source', 'Item Number', 'Cut and Paste', 'Persistent link to this record (Permalink)'}, inplace=True)\n",
    "    dataset.rename(columns={'Other Title': 'Part Title', 'Author(s)': 'Series Author', 'Genre(s)': 'Series Genre', 'Authors discussed': 'Work Author'}, inplace=True)\n",
    "    for i, row in dataset.iterrows():\n",
    "        author = row[5][:(row[5].find(';'))]\n",
    "        author = author[((author.find(','))+2):]+' '+author[:(author.find(','))]\n",
    "        dataset.loc[i, 'Work Author'] = author.title()\n",
    "        dataset.loc[i, 'Series Title'] = row[2][1:-1]\n",
    "    return dataset"
   ]
  },
  {
   "attachments": {},
   "cell_type": "markdown",
   "id": "ab3c8e3c",
   "metadata": {},
   "source": [
    "### Tabulating citation data:"
   ]
  },
  {
   "cell_type": "code",
   "execution_count": 8,
   "id": "0dcf41a9",
   "metadata": {},
   "outputs": [],
   "source": [
    "def table_cit(dataset):\n",
    "    entries = []\n",
    "    for entry in dataset:\n",
    "        if entry.startswith('A') and 'xa' in entry:\n",
    "            entries.append(entry.rsplit('\\\\'))\n",
    "    works = []\n",
    "    for entry in entries:\n",
    "        for string in entry:\n",
    "            if '.' in string:\n",
    "                works.append(string)\n",
    "    cits = []\n",
    "    for entry in works:\n",
    "        cits.append(entry.rsplit('.'))\n",
    "    headers = ['Work Title', 'Work Publisher', 'Publisher City', 'Year', 'Pages']\n",
    "    cit = pd.DataFrame(columns=headers)\n",
    "    for entry in cits:\n",
    "        row = [entry[0], entry[1], None, None, entry[2]]\n",
    "        cit = pd.concat([cit, pd.DataFrame([row], columns=cit.columns)], ignore_index=True)\n",
    "    return cit\n"
   ]
  },
  {
   "attachments": {},
   "cell_type": "markdown",
   "id": "843723c6",
   "metadata": {},
   "source": [
    "### Cleaning citation data:"
   ]
  },
  {
   "cell_type": "code",
   "execution_count": 9,
   "id": "0a235e0e",
   "metadata": {},
   "outputs": [],
   "source": [
    "def clean_cit(dataset):\n",
    "    for i, row in dataset.iterrows():\n",
    "        dataset.loc[i, 'Work Title'] = row[0][((row[0].rfind('0'))+1):]\n",
    "        dataset.loc[i, 'Publisher City'] = row[1][1:(row[1].rfind(':'))]\n",
    "        year = row[1][((row[1].rfind(','))+2):]\n",
    "        if '[' in year:\n",
    "            year = year[1:-1]\n",
    "        dataset.loc[i, 'Year'] = year\n",
    "        dataset.loc[i, 'Work Publisher'] = row[1][((row[1].rfind(':'))+2):(row[1].rfind(','))]\n",
    "    return dataset"
   ]
  },
  {
   "attachments": {},
   "cell_type": "markdown",
   "id": "3127a694",
   "metadata": {},
   "source": [
    "### Combining data:"
   ]
  },
  {
   "cell_type": "code",
   "execution_count": 11,
   "id": "8a0b2728",
   "metadata": {},
   "outputs": [],
   "source": [
    "def combine(articles, metadata, citations):\n",
    "    metadata = pd.concat([metadata]*(len(citations)), ignore_index=True)\n",
    "    metadata = metadata.join(citations)\n",
    "    number = metadata.loc[0, 'Accession Number']\n",
    "    citations = articles.loc[articles['Accession Number'] == number]\n",
    "    works = citations.merge(metadata, on='Accession Number')\n",
    "    works = works[['Database', 'Record Type', 'Series Genre', 'Series Title', 'Volume', 'Journal Title', 'Journal Publisher', 'Journal Author', 'Series Author', 'First Page', 'Page Count', 'Article Title', 'Part Title', 'Topics', 'Subjects', 'Work Author', 'Work Type', 'Work Genre', 'Work Title', 'Year', 'Pages', 'Work Publisher', 'Publisher City', 'ISBN', 'Accession Number', 'Permalink']]\n",
    "    return works"
   ]
  },
  {
   "attachments": {},
   "cell_type": "markdown",
   "id": "cb50598c",
   "metadata": {},
   "source": [
    "### Calling functions:"
   ]
  },
  {
   "cell_type": "code",
   "execution_count": 12,
   "id": "3d4261a8",
   "metadata": {},
   "outputs": [],
   "source": [
    "articles = clean_art(articles)\n",
    "record = parse_html(html)\n",
    "record = clean_html(record)\n",
    "metadata = table_meta(record)\n",
    "metadata = clean_meta(metadata)\n",
    "citations = table_cit(record)\n",
    "citations = clean_cit(citations)\n",
    "works = combine(articles, metadata, citations)"
   ]
  }
 ],
 "metadata": {
  "kernelspec": {
   "display_name": "Python 3 (ipykernel)",
   "language": "python",
   "name": "python3"
  },
  "language_info": {
   "codemirror_mode": {
    "name": "ipython",
    "version": 3
   },
   "file_extension": ".py",
   "mimetype": "text/x-python",
   "name": "python",
   "nbconvert_exporter": "python",
   "pygments_lexer": "ipython3",
   "version": "3.11.3"
  }
 },
 "nbformat": 4,
 "nbformat_minor": 5
}
